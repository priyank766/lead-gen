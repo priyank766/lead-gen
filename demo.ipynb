{
 "cells": [
  {
   "cell_type": "markdown",
   "metadata": {},
   "source": [
    "### Lead Generation Tool Demo"
   ]
  },
  {
   "cell_type": "markdown",
   "metadata": {},
   "source": [
    "This notebook demonstrates how to use the lead generation tool API."
   ]
  },
  {
   "cell_type": "code",
   "execution_count": null,
   "metadata": {},
   "outputs": [],
   "source": [
    "import requests\n",
    "import json"
   ]
  },
  {
   "cell_type": "markdown",
   "metadata": {},
   "source": [
    "#### 1. Scrape a URL"
   ]
  },
  {
   "cell_type": "code",
   "execution_count": null,
   "metadata": {},
   "outputs": [],
   "source": [
    "url = \"http://127.0.0.1:8000/scrape/\"\n",
    "payload = {\"url\": \"https://www.google.com\"}\n",
    "response = requests.post(url, json=payload)\n",
    "print(response.json())"
   ]
  },
  {
   "cell_type": "markdown",
   "metadata": {},
   "source": [
    "#### 2. Extract Data with LLM"
   ]
  },
  {
   "cell_type": "code",
   "execution_count": null,
   "metadata": {},
   "outputs": [],
   "source": [
    "url = \"http://127.0.0.1:8000/extract/\"\n",
    "payload = {\"url\": \"https://www.google.com\"}\n",
    "response = requests.post(url, json=payload)\n",
    "print(response.json())"
   ]
  },
  {
   "cell_type": "markdown",
   "metadata": {},
   "source": [
    "#### 3. Process Leads"
   ]
  },
  {
   "cell_type": "code",
   "execution_count": null,
   "metadata": {},
   "outputs": [],
   "source": [
    "url = \"http://127.0.0.1:8000/process_leads/\"\n",
    "payload = {\"leads\": [ {\"company_name\": \"Acme Inc.\", \"domain\": \"acme.com\", \"emails\": [\"test@acme.com\"], \"source_urls\": [\"acme.com\"]}, {\"company_name\": \"Acme\", \"domain\": \"www.acme.com\", \"emails\": [\"info@acme.com\"], \"phones\": [\"123-456-7890\"], \"source_urls\": [\"acme.com/contact\"]} ] }\n",
    "response = requests.post(url, json=payload)\n",
    "print(response.json())"
   ]
  },
  {
   "cell_type": "markdown",
   "metadata": {},
   "source": [
    "#### 4. Export Leads"
   ]
  },
  {
   "cell_type": "code",
   "execution_count": null,
   "metadata": {},
   "outputs": [],
   "source": [
    "url = \"http://127.0.0.1:8000/export_leads/\"\n",
    "payload = {\"leads\": [ {\"company_name\": \"Acme Inc.\", \"domain\": \"acme.com\", \"emails\": [\"test@acme.com\"], \"source_urls\": [\"acme.com\"], \"score\": 85}, {\"company_name\": \"Beta Corp\", \"domain\": \"beta.com\", \"emails\": [\"contact@beta.com\"], \"source_urls\": [\"beta.com\"], \"score\": 60} ] }\n",
    "response = requests.post(url, json=payload)\n",
    "with open(\"leads.csv\", \"wb\") as f:\n",
    "    f.write(response.content)"
   ]
  }
 ],
 "metadata": {
  "kernelspec": {
   "display_name": "Python 3",
   "language": "python",
   "name": "python3"
  },
  "language_info": {
   "codemirror_mode": {
    "name": "ipython",
    "version": 3
   },
   "file_extension": ".py",
   "mimetype": "text/x-python",
   "name": "python",
   "nbconvert_exporter": "python",
   "pygments_lexer": "ipython3",
   "version": "3.10.9"
  }
 },
 "nbformat": 4,
 "nbformat_minor": 4
}
